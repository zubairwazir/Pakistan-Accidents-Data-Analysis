{
  "nbformat": 4,
  "nbformat_minor": 0,
  "metadata": {
    "colab": {
      "name": "CartPole-v0.ipynb",
      "provenance": [],
      "collapsed_sections": [],
      "authorship_tag": "ABX9TyPwhf87AKYhK8q2ZsT2gxjp",
      "include_colab_link": true
    },
    "kernelspec": {
      "name": "python3",
      "display_name": "Python 3"
    },
    "language_info": {
      "name": "python"
    }
  },
  "cells": [
    {
      "cell_type": "markdown",
      "metadata": {
        "id": "view-in-github",
        "colab_type": "text"
      },
      "source": [
        "<a href=\"https://colab.research.google.com/github/zubairwazir/Responsive-Protfolio-Website/blob/master/CartPole_v0.ipynb\" target=\"_parent\"><img src=\"https://colab.research.google.com/assets/colab-badge.svg\" alt=\"Open In Colab\"/></a>"
      ]
    },
    {
      "cell_type": "markdown",
      "source": [
        "## Deep Reinforcement Learning Intern Position (Neurog)\n",
        "\n",
        "\n",
        "---\n",
        "\n",
        "\n",
        "\n",
        "\n",
        "\n"
      ],
      "metadata": {
        "id": "PYxPp0ZHGfbN"
      }
    },
    {
      "cell_type": "markdown",
      "source": [
        "## Assessment Task by ***Zubair Ahmad***\n",
        "\n",
        "---\n",
        "\n"
      ],
      "metadata": {
        "id": "YXhg7mTfPMHL"
      }
    },
    {
      "cell_type": "markdown",
      "source": [
        "# Deep Q-learning\n",
        "\n",
        "In this notebook, I will build a neural network that can learn to play games through reinforcement learning. More specifically, I will use Q-learning to train an agent to play a game called [Cart-Pole](https://gym.openai.com/envs/CartPole-v0). In this game, a freely swinging pole is attached to a cart. The cart can move to the left and right, and the goal is to keep the pole upright as long as possible.\n"
      ],
      "metadata": {
        "id": "noK3ht6l-MV_"
      }
    },
    {
      "cell_type": "markdown",
      "source": [
        "![cart-pole.jpg](data:image/jpeg;base64,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)\n"
      ],
      "metadata": {
        "id": "R1JWHh93Pr7n"
      }
    },
    {
      "cell_type": "markdown",
      "source": [
        "A pole is attached by an un-actuated joint to a cart, which moves along a frictionless track. The system is controlled by applying a force of +1 or -1 to the cart. The pendulum starts upright, and the goal is to prevent it from falling over. A reward of +1 is provided for every timestep that the pole remains upright. The episode ends when the pole is more than 15 degrees from vertical,or the cart moves more than 2.4 units from the center."
      ],
      "metadata": {
        "id": "OU0hvMmK7xXp"
      }
    },
    {
      "cell_type": "markdown",
      "source": [
        "\n",
        "I will simulate this game using [OpenAI Gym](https://gym.openai.com/). First, let's check out how OpenAI Gym works. Then, I will get into training an agent to play the Cart-Pole game."
      ],
      "metadata": {
        "id": "sTpM4MazQ7JL"
      }
    },
    {
      "cell_type": "markdown",
      "source": [
        "## Importing Libraries"
      ],
      "metadata": {
        "id": "H2wFeeXW8AKU"
      }
    },
    {
      "cell_type": "code",
      "source": [
        "import gym\n",
        "import random\n",
        "from keras import Sequential\n",
        "from collections import deque\n",
        "from keras.layers import Dense\n",
        "from tensorflow.keras.optimizers import Adam\n",
        "import matplotlib.pyplot as plt\n",
        "\n",
        "import numpy as np"
      ],
      "metadata": {
        "id": "eqeB9Uvh7_Jm"
      },
      "execution_count": null,
      "outputs": []
    },
    {
      "cell_type": "markdown",
      "source": [
        "# Create the Cart-Pole game environment\n",
        "\n",
        "\n",
        "> Environment name: *CartPole-v0* \n",
        "\n",
        "\n",
        "\n",
        "\n",
        "\n"
      ],
      "metadata": {
        "id": "f3lpiHMmAKfY"
      }
    },
    {
      "cell_type": "code",
      "source": [
        "env = gym.make('CartPole-v0')\n",
        "env.seed(0)\n",
        "np.random.seed(0)"
      ],
      "metadata": {
        "id": "44o7lu677_gK"
      },
      "execution_count": null,
      "outputs": []
    },
    {
      "cell_type": "markdown",
      "source": [
        "We interact with the simulation through `env`. To show the simulation running, you can use `env.render()` to render one frame. Passing in an action as an integer to `env.step` will generate the next step in the simulation.  You can see how many actions are possible from `env.action_space` and to get a random action you can use `env.action_space.sample()`. This is general to all Gym games. In the Cart-Pole game, there are two possible actions, moving the cart left or right. So there are two actions we can take, encoded as 0 and 1."
      ],
      "metadata": {
        "id": "AtHmP4zGQzf3"
      }
    },
    {
      "cell_type": "markdown",
      "source": [
        "## Hyperparameters\n",
        "\n",
        "One of the more difficult aspects of reinforcememt learning are the large number of hyperparameters. Not only tuning the network, but it tuning the simulation."
      ],
      "metadata": {
        "id": "UfmfrZrzBSZi"
      }
    },
    {
      "cell_type": "code",
      "source": [
        "class DQN:\n",
        "\n",
        "    \"\"\" Implementation of deep q learning algorithm \"\"\"\n",
        "\n",
        "    def __init__(self, action_space, state_space):\n",
        "\n",
        "        self.action_space = action_space\n",
        "        self.state_space = state_space\n",
        "        self.epsilon = 1\n",
        "        self.gamma = .95\n",
        "        self.batch_size = 64\n",
        "        self.epsilon_min = .01\n",
        "        self.epsilon_decay = .995\n",
        "        self.learning_rate = 0.001\n",
        "        self.memory = deque(maxlen=10000)\n",
        "        self.model = self.build_model()\n",
        "\n",
        "    def build_model(self):\n",
        "\n",
        "        model = Sequential()\n",
        "        model.add(Dense(24, input_shape=(self.state_space,), activation='relu'))\n",
        "        model.add(Dense(24, activation='relu'))\n",
        "        model.add(Dense(self.action_space, activation='linear'))\n",
        "        model.compile(loss='mse', optimizer=Adam(lr=self.learning_rate))\n",
        "        return model\n",
        "\n",
        "    def remember(self, state, action, reward, next_state, done):\n",
        "        self.memory.append((state, action, reward, next_state, done))\n",
        "\n",
        "    def act(self, state):\n",
        "\n",
        "        if np.random.rand() <= self.epsilon:\n",
        "            return random.randrange(self.action_space)\n",
        "        act_values = self.model.predict(state)\n",
        "        return np.argmax(act_values[0])\n",
        "\n",
        "    def replay(self):\n",
        "\n",
        "        if len(self.memory) < self.batch_size:\n",
        "            return\n",
        "\n",
        "        minibatch = random.sample(self.memory, self.batch_size)\n",
        "        states = np.array([i[0] for i in minibatch])\n",
        "        actions = np.array([i[1] for i in minibatch])\n",
        "        rewards = np.array([i[2] for i in minibatch])\n",
        "        next_states = np.array([i[3] for i in minibatch])\n",
        "        dones = np.array([i[4] for i in minibatch])\n",
        "\n",
        "        states = np.squeeze(states)\n",
        "        next_states = np.squeeze(next_states)\n",
        "\n",
        "        targets = rewards + self.gamma*(np.amax(self.model.predict_on_batch(next_states), axis=1))*(1-dones)\n",
        "        targets_full = self.model.predict_on_batch(states)\n",
        "\n",
        "        ind = np.array([i for i in range(self.batch_size)])\n",
        "        targets_full[[ind], [actions]] = targets\n",
        "\n",
        "        self.model.fit(states, targets_full, epochs=1, verbose=0)\n",
        "        if self.epsilon > self.epsilon_min:\n",
        "            self.epsilon *= self.epsilon_decay"
      ],
      "metadata": {
        "id": "G5ryxmtV7_jO"
      },
      "execution_count": null,
      "outputs": []
    },
    {
      "cell_type": "markdown",
      "source": [
        "## Deep Q-Learning training algorithm\n",
        "\n",
        "Putting all this together, we can list out the algorithm I will use to train the network. I Will train the network in _episodes_. One *episode* is one simulation of the game. For this game, the goal is to keep the pole upright for 195 frames. So we can start a new episode once meeting that goal. The game ends if the pole tilts over too far, or if the cart moves too far the left or right. When a game ends, we'll start a new episode. Now, to train the agent:\n",
        "\n",
        "* Initialize the memory $D$\n",
        "* Initialize the action-value network $Q$ with random weights\n",
        "* **For** episode = 1, $M$ **do**\n",
        "  * **For** $t$, $T$ **do**\n",
        "     * With probability $\\epsilon$ select a random action $a_t$, otherwise select $a_t = \\mathrm{argmax}_a Q(s,a)$\n",
        "     * Execute action $a_t$ in simulator and observe reward $r_{t+1}$ and new state $s_{t+1}$\n",
        "     * Store transition $<s_t, a_t, r_{t+1}, s_{t+1}>$ in memory $D$\n",
        "     * Sample random mini-batch from $D$: $<s_j, a_j, r_j, s'_j>$\n",
        "     * Set $\\hat{Q}_j = r_j$ if the episode ends at $j+1$, otherwise set $\\hat{Q}_j = r_j + \\gamma \\max_{a'}{Q(s'_j, a')}$\n",
        "     * Make a gradient descent step with loss $(\\hat{Q}_j - Q(s_j, a_j))^2$\n",
        "  * **endfor**\n",
        "* **endfor**"
      ],
      "metadata": {
        "id": "3Ap1f7rs8AYL"
      }
    },
    {
      "cell_type": "code",
      "source": [
        "def train_dqn(episode):\n",
        "\n",
        "    loss = []\n",
        "    agent = DQN(env.action_space.n, env.observation_space.shape[0])\n",
        "    for e in range(episode):\n",
        "        state = env.reset()\n",
        "        state = np.reshape(state, (1, 4))\n",
        "        score = 0\n",
        "        max_steps = 1000\n",
        "        for i in range(max_steps):\n",
        "            action = agent.act(state)\n",
        "            next_state, reward, done, _ = env.step(action)\n",
        "            score += reward\n",
        "            next_state = np.reshape(next_state, (1, 4))\n",
        "            agent.remember(state, action, reward, next_state, done)\n",
        "            state = next_state\n",
        "            agent.replay()\n",
        "            if done:\n",
        "                print(\"episode: {}/{}, score: {}\".format(e, episode, score))\n",
        "                break\n",
        "        loss.append(score)\n",
        "    return loss"
      ],
      "metadata": {
        "id": "vuYWCbEy7_mh"
      },
      "execution_count": null,
      "outputs": []
    },
    {
      "cell_type": "markdown",
      "source": [
        "The game resets after the pole has fallen past a certain angle. For each frame while the simulation is running, it returns a reward of 1.0. The longer the game runs, the more reward we get. Then, our network’s goal is to maximize the reward by keeping the pole vertical. It will do this by moving the cart to the left and the right."
      ],
      "metadata": {
        "id": "akU6tU0LR3Gm"
      }
    },
    {
      "cell_type": "markdown",
      "source": [
        "## Populate the experience memory\n",
        "\n",
        "Here I'm re-initializing the simulation and pre-populating the memory. The agent is taking random actions and storing the transitions in memory. This will help the agent with exploring the game."
      ],
      "metadata": {
        "id": "sJknl5RNBjDR"
      }
    },
    {
      "cell_type": "code",
      "source": [
        "def random_policy(episode, step):\n",
        "\n",
        "    for i_episode in range(episode):\n",
        "        env.reset()\n",
        "        for t in range(step):\n",
        "            env.render()\n",
        "            action = env.action_space.sample()\n",
        "            state, reward, done, info = env.step(action)\n",
        "            if done:\n",
        "                print(\"Episode finished after {} timesteps\".format(t+1))\n",
        "                break\n",
        "            print(\"Starting next episode\")\n"
      ],
      "metadata": {
        "id": "gEUwMyI07_ph"
      },
      "execution_count": null,
      "outputs": []
    },
    {
      "cell_type": "markdown",
      "source": [
        "## Training\n",
        "\n",
        "Below I will train our agent. \n",
        "\n",
        "## Visualizing training\n",
        "\n",
        "I will also plot the total rewards for each episode."
      ],
      "metadata": {
        "id": "1QyrisC19DGP"
      }
    },
    {
      "cell_type": "code",
      "execution_count": null,
      "metadata": {
        "colab": {
          "base_uri": "https://localhost:8080/",
          "height": 1000
        },
        "id": "_nPxGdGp1OvT",
        "outputId": "eed30e82-c72e-4fe1-e85b-81a5cba3a789"
      },
      "outputs": [
        {
          "metadata": {
            "tags": null
          },
          "name": "stderr",
          "output_type": "stream",
          "text": [
            "/usr/local/lib/python3.7/dist-packages/keras/optimizer_v2/adam.py:105: UserWarning: The `lr` argument is deprecated, use `learning_rate` instead.\n",
            "  super(Adam, self).__init__(name, **kwargs)\n"
          ]
        },
        {
          "output_type": "stream",
          "name": "stdout",
          "text": [
            "episode: 0/100, score: 12.0\n",
            "episode: 1/100, score: 15.0\n",
            "episode: 2/100, score: 19.0\n",
            "episode: 3/100, score: 17.0\n",
            "episode: 4/100, score: 13.0\n",
            "episode: 5/100, score: 15.0\n",
            "episode: 6/100, score: 21.0\n",
            "episode: 7/100, score: 12.0\n",
            "episode: 8/100, score: 40.0\n",
            "episode: 9/100, score: 10.0\n",
            "episode: 10/100, score: 15.0\n",
            "episode: 11/100, score: 23.0\n",
            "episode: 12/100, score: 11.0\n",
            "episode: 13/100, score: 16.0\n",
            "episode: 14/100, score: 11.0\n",
            "episode: 15/100, score: 12.0\n",
            "episode: 16/100, score: 9.0\n",
            "episode: 17/100, score: 13.0\n",
            "episode: 18/100, score: 10.0\n",
            "episode: 19/100, score: 10.0\n",
            "episode: 20/100, score: 12.0\n",
            "episode: 21/100, score: 13.0\n",
            "episode: 22/100, score: 12.0\n",
            "episode: 23/100, score: 27.0\n",
            "episode: 24/100, score: 19.0\n",
            "episode: 25/100, score: 41.0\n",
            "episode: 26/100, score: 38.0\n",
            "episode: 27/100, score: 27.0\n",
            "episode: 28/100, score: 68.0\n",
            "episode: 29/100, score: 74.0\n",
            "episode: 30/100, score: 107.0\n",
            "episode: 31/100, score: 105.0\n",
            "episode: 32/100, score: 130.0\n",
            "episode: 33/100, score: 118.0\n",
            "episode: 34/100, score: 101.0\n",
            "episode: 35/100, score: 200.0\n",
            "episode: 36/100, score: 159.0\n",
            "episode: 37/100, score: 130.0\n",
            "episode: 38/100, score: 200.0\n",
            "episode: 39/100, score: 148.0\n",
            "episode: 40/100, score: 193.0\n",
            "episode: 41/100, score: 200.0\n",
            "episode: 42/100, score: 200.0\n",
            "episode: 43/100, score: 105.0\n",
            "episode: 44/100, score: 200.0\n",
            "episode: 45/100, score: 181.0\n",
            "episode: 46/100, score: 200.0\n",
            "episode: 47/100, score: 127.0\n",
            "episode: 48/100, score: 200.0\n",
            "episode: 49/100, score: 200.0\n",
            "episode: 50/100, score: 200.0\n",
            "episode: 51/100, score: 200.0\n",
            "episode: 52/100, score: 143.0\n",
            "episode: 53/100, score: 200.0\n",
            "episode: 54/100, score: 181.0\n",
            "episode: 55/100, score: 174.0\n",
            "episode: 56/100, score: 194.0\n",
            "episode: 57/100, score: 118.0\n",
            "episode: 58/100, score: 182.0\n",
            "episode: 59/100, score: 187.0\n",
            "episode: 60/100, score: 153.0\n",
            "episode: 61/100, score: 159.0\n",
            "episode: 62/100, score: 150.0\n",
            "episode: 63/100, score: 177.0\n",
            "episode: 64/100, score: 146.0\n",
            "episode: 65/100, score: 200.0\n",
            "episode: 66/100, score: 185.0\n",
            "episode: 67/100, score: 200.0\n",
            "episode: 68/100, score: 162.0\n",
            "episode: 69/100, score: 172.0\n",
            "episode: 70/100, score: 138.0\n",
            "episode: 71/100, score: 152.0\n",
            "episode: 72/100, score: 161.0\n",
            "episode: 73/100, score: 149.0\n",
            "episode: 74/100, score: 200.0\n",
            "episode: 75/100, score: 185.0\n",
            "episode: 76/100, score: 182.0\n",
            "episode: 77/100, score: 158.0\n",
            "episode: 78/100, score: 168.0\n",
            "episode: 79/100, score: 139.0\n",
            "episode: 80/100, score: 131.0\n",
            "episode: 81/100, score: 157.0\n",
            "episode: 82/100, score: 159.0\n",
            "episode: 83/100, score: 134.0\n",
            "episode: 84/100, score: 173.0\n",
            "episode: 85/100, score: 194.0\n",
            "episode: 86/100, score: 152.0\n",
            "episode: 87/100, score: 162.0\n",
            "episode: 88/100, score: 200.0\n",
            "episode: 89/100, score: 179.0\n",
            "episode: 90/100, score: 184.0\n",
            "episode: 91/100, score: 168.0\n",
            "episode: 92/100, score: 158.0\n",
            "episode: 93/100, score: 139.0\n",
            "episode: 94/100, score: 154.0\n",
            "episode: 95/100, score: 145.0\n",
            "episode: 96/100, score: 131.0\n",
            "episode: 97/100, score: 147.0\n",
            "episode: 98/100, score: 146.0\n",
            "episode: 99/100, score: 154.0\n"
          ]
        },
        {
          "output_type": "display_data",
          "data": {
            "image/png": "[encoded data removed]",
            "text/plain": [
              "<Figure size 432x288 with 1 Axes>"
            ]
          },
          "metadata": {
            "needs_background": "light"
          }
        }
      ],
      "source": [
        "if __name__ == '__main__':\n",
        "\n",
        "    ep = 100\n",
        "    loss = train_dqn(ep)\n",
        "    plt.plot([i+1 for i in range(0, ep, 2)], loss[::2])\n",
        "    plt.show()"
      ]
    }
  ]
}